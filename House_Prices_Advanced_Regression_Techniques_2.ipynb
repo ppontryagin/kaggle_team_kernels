{
 "cells": [
  {
   "cell_type": "markdown",
   "metadata": {},
   "source": [
    "# House Prices: Advanced Regression Techniques"
   ]
  },
  {
   "cell_type": "markdown",
   "metadata": {},
   "source": [
    "Competition web page: https://www.kaggle.com/c/house-prices-advanced-regression-techniques\n",
    "\n",
    "Influenced by: https://www.kaggle.com/juliencs/a-study-on-regression-applied-to-the-ames-dataset"
   ]
  },
  {
   "cell_type": "markdown",
   "metadata": {},
   "source": [
    "## Description\n",
    "\n",
    "![image.png](attachment:image.png)\n",
    "\n",
    "Ask a home buyer to describe their dream house, and they probably won't begin with the height of the basement ceiling or the proximity to an east-west railroad. But this playground competition's dataset proves that much more influences price negotiations than the number of bedrooms or a white-picket fence.\n",
    "\n",
    "With 79 explanatory variables describing (almost) every aspect of residential homes in Ames, Iowa, this competition challenges you to predict the final price of each home."
   ]
  },
  {
   "cell_type": "markdown",
   "metadata": {},
   "source": [
    "### Goal\n",
    "\n",
    "It is your job to predict the sales price for each house. For each Id in the test set, you must predict the value of the SalePrice variable. \n",
    "\n",
    "### Metric\n",
    "\n",
    "Submissions are evaluated on Root-Mean-Squared-Error (RMSE) between the logarithm of the predicted value and the logarithm of the observed sales price. (Taking logs means that errors in predicting expensive houses and cheap houses will affect the result equally.)"
   ]
  },
  {
   "cell_type": "markdown",
   "metadata": {},
   "source": [
    "## 1. Setup environment"
   ]
  },
  {
   "cell_type": "markdown",
   "metadata": {},
   "source": [
    "#### 1.1 Fire up imports"
   ]
  },
  {
   "cell_type": "code",
   "execution_count": 79,
   "metadata": {
    "collapsed": true
   },
   "outputs": [],
   "source": [
    "# Trick to install a package in docker container\n",
    "import pip    \n",
    "def install(package):\n",
    "   pip.main(['install', package])"
   ]
  },
  {
   "cell_type": "code",
   "execution_count": 103,
   "metadata": {
    "collapsed": true
   },
   "outputs": [],
   "source": [
    "import csv\n",
    "import operator\n",
    "import os\n",
    "import pandas\n",
    "import re\n",
    "import sklearn\n",
    "import string\n",
    "import numpy as np\n",
    "\n",
    "# machine learning\n",
    "from sklearn.feature_extraction.text import CountVectorizer\n",
    "from sklearn.linear_model import LogisticRegression, LinearRegression, RidgeCV, ElasticNetCV\n",
    "\n",
    "import warnings\n",
    "# Comment out if necessary\n",
    "warnings.simplefilter(\"ignore\", category=RuntimeWarning)\n",
    "\n",
    "# visualization\n",
    "import seaborn as sns\n",
    "import matplotlib.pyplot as plt\n",
    "%matplotlib inline"
   ]
  },
  {
   "cell_type": "markdown",
   "metadata": {
    "collapsed": true
   },
   "source": [
    "## 2. Get to know data"
   ]
  },
  {
   "cell_type": "markdown",
   "metadata": {},
   "source": [
    "#### 2.1 Read some house data"
   ]
  },
  {
   "cell_type": "code",
   "execution_count": 81,
   "metadata": {
    "collapsed": true
   },
   "outputs": [],
   "source": [
    "data_dir = 'data'\n",
    "\n",
    "train_file = os.path.join(data_dir, 'train.csv')\n",
    "train_data = pandas.read_csv(train_file)\n",
    "\n",
    "test_file = os.path.join(data_dir, 'test.csv')\n",
    "test_data = pandas.read_csv(test_file)"
   ]
  },
  {
   "cell_type": "code",
   "execution_count": 82,
   "metadata": {},
   "outputs": [
    {
     "name": "stdout",
     "output_type": "stream",
     "text": [
      "train : (1460, 81)\n"
     ]
    }
   ],
   "source": [
    "print(\"train : \" + str(train_data.shape))"
   ]
  },
  {
   "cell_type": "code",
   "execution_count": 83,
   "metadata": {},
   "outputs": [
    {
     "name": "stdout",
     "output_type": "stream",
     "text": [
      "Find most important features relative to target\n",
      "SalePrice      1.000000\n",
      "OverallQual    0.790982\n",
      "GrLivArea      0.708624\n",
      "GarageCars     0.640409\n",
      "GarageArea     0.623431\n",
      "TotalBsmtSF    0.613581\n",
      "1stFlrSF       0.605852\n",
      "FullBath       0.560664\n",
      "Name: SalePrice, dtype: float64\n"
     ]
    }
   ],
   "source": [
    "# Find most important features relative to target\n",
    "print(\"Find most important features relative to target\")\n",
    "corr = train_data.corr()\n",
    "corr.sort_values([\"SalePrice\"], ascending = False, inplace = True)\n",
    "print(corr.SalePrice.head(8))"
   ]
  },
  {
   "cell_type": "markdown",
   "metadata": {},
   "source": [
    "## 3. COMPREHENSIVE DATA EXPLORATION\n",
    "Taken from https://www.kaggle.com/pmarcelino/comprehensive-data-exploration-with-python What we are doing in this kernel is something like:\n",
    "\n",
    "1. **Understand the problem**. We'll look at each variable and do a philosophical analysis about their meaning and importance for this problem.\n",
    "\n",
    "2. **Univariable study**. We'll just focus on the dependent variable ('SalePrice') and try to know a little bit more about it.\n",
    "\n",
    "3. **Multivariate study**. We'll try to understand how the dependent variable and independent variables relate.\n",
    "\n",
    "4. **Basic cleaning**. We'll clean the dataset and handle the missing data, outliers and categorical variables.\n",
    "\n",
    "5. **Test assumptions**. We'll check if our data meets the assumptions required by most multivariate techniques."
   ]
  },
  {
   "cell_type": "code",
   "execution_count": 84,
   "metadata": {
    "collapsed": true
   },
   "outputs": [],
   "source": [
    "## TODO: add steps 1-3, 5"
   ]
  },
  {
   "cell_type": "markdown",
   "metadata": {},
   "source": [
    "#### 3.4 Basic cleaning"
   ]
  },
  {
   "cell_type": "code",
   "execution_count": 85,
   "metadata": {
    "collapsed": true
   },
   "outputs": [],
   "source": [
    "# Fill in missing values\n",
    "\n",
    "# add missing values to train dataset\n",
    "train_data['GrLivAreaFull'] = train_data.GrLivArea.fillna(train_data.GrLivArea.mean())\n",
    "train_data['GarageAreaFull'] = train_data.GarageArea.fillna(train_data.GarageArea.mean())\n",
    "train_data['TotalBsmtSF'] = train_data.TotalBsmtSF.fillna(train_data.TotalBsmtSF.mean())\n",
    "\n",
    "# add missing values to test dataset\n",
    "test_data['GrLivAreaFull'] = test_data.GrLivArea.fillna(test_data.GrLivArea.mean())\n",
    "test_data['GarageAreaFull'] = test_data.GarageArea.fillna(test_data.GarageArea.mean())\n",
    "test_data['TotalBsmtSF'] = test_data.TotalBsmtSF.fillna(test_data.TotalBsmtSF.mean())\n",
    "\n",
    "# avg is 2\n",
    "test_data['GarageCars'] = test_data.GarageCars.fillna(2)\n",
    "test_data['GarageCars'] = test_data.GarageCars.astype(int)"
   ]
  },
  {
   "cell_type": "code",
   "execution_count": 91,
   "metadata": {},
   "outputs": [
    {
     "name": "stderr",
     "output_type": "stream",
     "text": [
      "/env/lib/python3.6/site-packages/matplotlib/font_manager.py:1297: UserWarning: findfont: Font family ['sans-serif'] not found. Falling back to DejaVu Sans\n",
      "  (prop.get_family(), self.defaultFamily[fontext]))\n"
     ]
    },
    {
     "data": {
      "image/png": "[encoded data removed]",
      "text/plain": [
       "<matplotlib.figure.Figure at 0x7f74b7246860>"
      ]
     },
     "metadata": {},
     "output_type": "display_data"
    }
   ],
   "source": [
    "# Looking for outliers, as indicated in https://ww2.amstat.org/publications/jse/v19n3/decock.pdf\n",
    "plt.scatter(train_data.GrLivArea, train_data.SalePrice, c = \"blue\", marker = \"s\")\n",
    "plt.title(\"Looking for outliers\")\n",
    "plt.xlabel(\"GrLivArea\")\n",
    "plt.ylabel(\"SalePrice\")\n",
    "plt.show()\n",
    "\n",
    "train_data = train_data[train_data.GrLivArea < 4000]"
   ]
  },
  {
   "cell_type": "markdown",
   "metadata": {},
   "source": [
    "There seems to be 2 extreme outliers on the bottom right, really large houses that sold for really cheap. More generally, the author of the dataset recommends removing 'any houses with more than 4000 square feet' from the dataset.\n",
    "Reference : https://ww2.amstat.org/publications/jse/v19n3/decock.pdf"
   ]
  },
  {
   "cell_type": "code",
   "execution_count": 92,
   "metadata": {
    "collapsed": true
   },
   "outputs": [],
   "source": [
    "# Log transform the target for official scoring\n",
    "# https://stats.stackexchange.com/questions/145383/getting-negative-predicted-values-after-linear-regression\n",
    "# Linear regression does not respect the bounds of 0. \n",
    "# It's linear, always and everywhere. It may not be appropriate for values that need \n",
    "# to be close to 0 but are strictly positive.\n",
    "\n",
    "# One way to manage this, particularly in the case of price, is to use the natural log of price.\n",
    "train_data.SalePrice = np.log1p(train_data.SalePrice)"
   ]
  },
  {
   "cell_type": "markdown",
   "metadata": {},
   "source": [
    "## 4. Model, predict and solve"
   ]
  },
  {
   "cell_type": "markdown",
   "metadata": {},
   "source": [
    "Now we are ready to train a model and predict the required solution. There are many predictive modelling algorithms to choose from. These include: Logistic Regression ...\n",
    "\n",
    "Let's start from Logistig Regression"
   ]
  },
  {
   "cell_type": "code",
   "execution_count": 116,
   "metadata": {
    "collapsed": true
   },
   "outputs": [],
   "source": [
    "# Create new features\n",
    "\n",
    "# 2* Combinations of existing features\n",
    "# Overall quality of the house\n",
    "train_data[\"OverallGrade\"] = train_data[\"OverallQual\"] * train_data[\"OverallCond\"]\n",
    "\n",
    "# 3* Polynomials on the top 10 existing features\n",
    "train_data[\"OverallQual-s2\"] = train_data[\"OverallQual\"] ** 2\n",
    "train_data[\"OverallQual-s3\"] = train_data[\"OverallQual\"] ** 3\n",
    "train_data[\"OverallQual-Sq\"] = np.sqrt(train_data[\"OverallQual\"])\n",
    "\n",
    "test_data[\"OverallGrade\"] = test_data[\"OverallQual\"] * test_data[\"OverallCond\"]\n",
    "test_data[\"OverallQual-s2\"] = test_data[\"OverallQual\"] ** 2\n",
    "test_data[\"OverallQual-s3\"] = test_data[\"OverallQual\"] ** 3\n",
    "test_data[\"OverallQual-Sq\"] = np.sqrt(test_data[\"OverallQual\"])"
   ]
  },
  {
   "cell_type": "code",
   "execution_count": 108,
   "metadata": {
    "collapsed": true
   },
   "outputs": [],
   "source": [
    "# OverallQual       0.800858\n",
    "# GrLivAreaFull     0.720516\n",
    "# GarageCars        0.649256\n",
    "# TotalBsmtSF       0.646584\n",
    "# GarageAreaFull    0.636964\n",
    "\n",
    "features=['OverallQual', 'GrLivAreaFull', 'GarageCars', 'TotalBsmtSF', 'GarageAreaFull', 'OverallQual-s2',\n",
    "         'OverallQual-s3', 'OverallQual-Sq']"
   ]
  },
  {
   "cell_type": "code",
   "execution_count": 109,
   "metadata": {},
   "outputs": [
    {
     "data": {
      "text/plain": [
       "((1456, 8), (1456,), (1459, 8))"
      ]
     },
     "execution_count": 109,
     "metadata": {},
     "output_type": "execute_result"
    }
   ],
   "source": [
    "X_train = train_data.drop(\"SalePrice\", axis=1)[features]\n",
    "Y_train = train_data[\"SalePrice\"]\n",
    "X_test  = test_data.drop(\"Id\", axis=1)[features].copy()\n",
    "X_train.shape, Y_train.shape, X_test.shape"
   ]
  },
  {
   "cell_type": "markdown",
   "metadata": {},
   "source": [
    "**1* Linear Regression without regularization**"
   ]
  },
  {
   "cell_type": "code",
   "execution_count": 114,
   "metadata": {},
   "outputs": [
    {
     "data": {
      "text/plain": [
       "0.82154508473183718"
      ]
     },
     "execution_count": 114,
     "metadata": {},
     "output_type": "execute_result"
    }
   ],
   "source": [
    "# Linear Regression\n",
    "lr = LinearRegression()\n",
    "lr.fit(X_train, Y_train)\n",
    "Y_pred = lr.predict(X_test)\n",
    "lr.score(X_train, Y_train)"
   ]
  },
  {
   "cell_type": "code",
   "execution_count": 111,
   "metadata": {},
   "outputs": [
    {
     "name": "stderr",
     "output_type": "stream",
     "text": [
      "/env/lib/python3.6/site-packages/matplotlib/font_manager.py:1297: UserWarning: findfont: Font family ['sans-serif'] not found. Falling back to DejaVu Sans\n",
      "  (prop.get_family(), self.defaultFamily[fontext]))\n"
     ]
    },
    {
     "data": {
      "image/png": "[encoded data removed]",
      "text/plain": [
       "<matplotlib.figure.Figure at 0x7f74b6b07fd0>"
      ]
     },
     "metadata": {},
     "output_type": "display_data"
    }
   ],
   "source": [
    "# Looking at the result\n",
    "plt.scatter(X_test.GrLivAreaFull, Y_pred, c = \"blue\", marker = \"s\")\n",
    "plt.title(\"Predicted prices\")\n",
    "plt.xlabel(\"GrLivArea\")\n",
    "plt.ylabel(\"SalePrice\")\n",
    "plt.show()"
   ]
  },
  {
   "cell_type": "markdown",
   "metadata": {},
   "source": [
    "**2* Linear Regression with Ridge regularization (L2 penalty)**"
   ]
  },
  {
   "cell_type": "code",
   "execution_count": 112,
   "metadata": {},
   "outputs": [
    {
     "data": {
      "text/plain": [
       "0.82151081771854828"
      ]
     },
     "execution_count": 112,
     "metadata": {},
     "output_type": "execute_result"
    }
   ],
   "source": [
    "# 2* Ridge\n",
    "ridge = RidgeCV(alphas = [0.01, 0.03, 0.06, 0.1, 0.3, 0.6, 1, 3, 6, 10, 30, 60])\n",
    "ridge.fit(X_train, Y_train)\n",
    "Y_pred = ridge.predict(X_test)\n",
    "ridge.score(X_train, Y_train)"
   ]
  },
  {
   "cell_type": "markdown",
   "metadata": {},
   "source": [
    "**4* Linear Regression with ElasticNet regularization (L1 and L2 penalty)**"
   ]
  },
  {
   "cell_type": "code",
   "execution_count": 113,
   "metadata": {},
   "outputs": [
    {
     "data": {
      "text/plain": [
       "0.8214930589545768"
      ]
     },
     "execution_count": 113,
     "metadata": {},
     "output_type": "execute_result"
    }
   ],
   "source": [
    "# 4* ElasticNet\n",
    "elasticNet = ElasticNetCV(l1_ratio = [0.1, 0.3, 0.5, 0.6, 0.7, 0.8, 0.85, 0.9, 0.95, 1],\n",
    "                          alphas = [0.0001, 0.0003, 0.0006, 0.001, 0.003, 0.006, \n",
    "                                    0.01, 0.03, 0.06, 0.1, 0.3, 0.6, 1, 3, 6], \n",
    "                          max_iter = 50000, cv = 10)\n",
    "elasticNet.fit(X_train, Y_train)\n",
    "Y_pred = elasticNet.predict(X_test)\n",
    "elasticNet.score(X_train, Y_train)"
   ]
  },
  {
   "cell_type": "markdown",
   "metadata": {},
   "source": [
    "## 5. Printout the result"
   ]
  },
  {
   "cell_type": "code",
   "execution_count": 115,
   "metadata": {
    "collapsed": true
   },
   "outputs": [],
   "source": [
    "submission = pandas.DataFrame({\n",
    "        \"Id\": test_data[\"Id\"],\n",
    "        \"SalePrice\": np.expm1(Y_pred)\n",
    "    })\n",
    "submission.to_csv('data/output.csv', index=False)"
   ]
  },
  {
   "cell_type": "code",
   "execution_count": null,
   "metadata": {
    "collapsed": true
   },
   "outputs": [],
   "source": []
  }
 ],
 "metadata": {
  "kernelspec": {
   "display_name": "Python 3",
   "language": "python",
   "name": "python3"
  },
  "language_info": {
   "codemirror_mode": {
    "name": "ipython",
    "version": 3
   },
   "file_extension": ".py",
   "mimetype": "text/x-python",
   "name": "python",
   "nbconvert_exporter": "python",
   "pygments_lexer": "ipython3",
   "version": "3.6.1"
  }
 },
 "nbformat": 4,
 "nbformat_minor": 2
}
